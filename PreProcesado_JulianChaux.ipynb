{
  "nbformat": 4,
  "nbformat_minor": 0,
  "metadata": {
    "colab": {
      "name": "PreProcesado_JulianChaux.ipynb",
      "provenance": [],
      "collapsed_sections": [],
      "authorship_tag": "ABX9TyOI9ecKr3SdcG2/XyxbqhoB",
      "include_colab_link": true
    },
    "kernelspec": {
      "name": "python3",
      "display_name": "Python 3"
    },
    "language_info": {
      "name": "python"
    }
  },
  "cells": [
    {
      "cell_type": "markdown",
      "metadata": {
        "id": "view-in-github",
        "colab_type": "text"
      },
      "source": [
        "<a href=\"https://colab.research.google.com/github/julianchaux/machinelearning-az/blob/master/PreProcesado_JulianChaux.ipynb\" target=\"_parent\"><img src=\"https://colab.research.google.com/assets/colab-badge.svg\" alt=\"Open In Colab\"/></a>"
      ]
    },
    {
      "cell_type": "markdown",
      "metadata": {
        "id": "jS8nOfRWLBRu"
      },
      "source": [
        "# Clonamos el repositorio para obtener los dataSet"
      ]
    },
    {
      "cell_type": "code",
      "metadata": {
        "colab": {
          "base_uri": "https://localhost:8080/"
        },
        "id": "BmSevBHhLDXm",
        "outputId": "2f9c259c-80e8-497a-934c-37cf24c20a12"
      },
      "source": [
        "!git clone https://github.com/joanby/machinelearning-az.git"
      ],
      "execution_count": 1,
      "outputs": [
        {
          "output_type": "stream",
          "text": [
            "Cloning into 'machinelearning-az'...\n",
            "remote: Enumerating objects: 10497, done.\u001b[K\n",
            "remote: Total 10497 (delta 0), reused 0 (delta 0), pack-reused 10497\u001b[K\n",
            "Receiving objects: 100% (10497/10497), 310.48 MiB | 32.84 MiB/s, done.\n",
            "Resolving deltas: 100% (213/213), done.\n",
            "Checking out files: 100% (10250/10250), done.\n"
          ],
          "name": "stdout"
        }
      ]
    },
    {
      "cell_type": "markdown",
      "metadata": {
        "id": "fyyfypkCMN6l"
      },
      "source": [
        "# Revisamos la carpeta"
      ]
    },
    {
      "cell_type": "code",
      "metadata": {
        "colab": {
          "base_uri": "https://localhost:8080/"
        },
        "id": "sngGb1nlMRHD",
        "outputId": "9d0f3de9-b5f5-4a21-aea7-a565a25cee4a"
      },
      "source": [
        "!ls '/content/machinelearning-az/datasets' "
      ],
      "execution_count": 4,
      "outputs": [
        {
          "output_type": "stream",
          "text": [
            "'Part 10 - Model Selection & Boosting'\t'Part 5 - Association Rule Learning'\n",
            "'Part 1 - Data Preprocessing'\t\t'Part 6 - Reinforcement Learning'\n",
            "'Part 2 - Regression'\t\t\t'Part 7 - Natural Language Processing'\n",
            "'Part 3 - Classification'\t\t'Part 8 - Deep Learning'\n",
            "'Part 4 - Clustering'\t\t\t'Part 9 - Dimensionality Reduction'\n"
          ],
          "name": "stdout"
        }
      ]
    },
    {
      "cell_type": "markdown",
      "metadata": {
        "id": "dbNrPvwXNzcX"
      },
      "source": [
        "# Plantilla de Pre Procesado - Datos Categóricos"
      ]
    },
    {
      "cell_type": "markdown",
      "metadata": {
        "id": "-39_Mdg2N39o"
      },
      "source": [
        "# Cómo importar las librerías"
      ]
    },
    {
      "cell_type": "code",
      "metadata": {
        "colab": {
          "base_uri": "https://localhost:8080/"
        },
        "id": "4eSQhyknN0jy",
        "outputId": "717c566f-5424-454a-a7a3-17729ccb3186"
      },
      "source": [
        "import numpy as np\n",
        "import matplotlib.pyplot as plt\n",
        "import pandas as pd\n",
        "print(f'La versión de numpy es {np.__version__}')\n",
        "print(f'La versión de pandas es {pd.__version__}')"
      ],
      "execution_count": 9,
      "outputs": [
        {
          "output_type": "stream",
          "text": [
            "La versión de numpy es 1.19.5\n",
            "La versión de pandas es 1.1.5\n"
          ],
          "name": "stdout"
        }
      ]
    }
  ]
}